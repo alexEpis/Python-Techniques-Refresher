{
 "cells": [
  {
   "cell_type": "markdown",
   "metadata": {},
   "source": [
    "# Numpy"
   ]
  },
  {
   "cell_type": "markdown",
   "metadata": {},
   "source": [
    "### NumPy is a library for the Python programming language, adding support for large, multi-dimensional arrays and matrices, along with a large collection of high-level mathematical functions to operate on these arrays. NumPy is open-source software and has many contributors. \n",
    "\n",
    "### You can see Numpy as a MatLab replacement within the Python programming language."
   ]
  },
  {
   "cell_type": "code",
   "execution_count": 1,
   "metadata": {},
   "outputs": [],
   "source": [
    "# Import the numpy library\n",
    "\n",
    "import numpy as np"
   ]
  },
  {
   "cell_type": "code",
   "execution_count": 2,
   "metadata": {},
   "outputs": [
    {
     "data": {
      "text/plain": [
       "array([1, 2, 3])"
      ]
     },
     "execution_count": 2,
     "metadata": {},
     "output_type": "execute_result"
    }
   ],
   "source": [
    "# The simplest object of Numpy (from now on np for short), is an np-array\n",
    "\n",
    "x = np.array([1, 2, 3])\n",
    "x"
   ]
  },
  {
   "cell_type": "code",
   "execution_count": 3,
   "metadata": {},
   "outputs": [
    {
     "data": {
      "text/plain": [
       "array([0, 1, 2, 3, 4, 5, 6, 7, 8, 9])"
      ]
     },
     "execution_count": 3,
     "metadata": {},
     "output_type": "execute_result"
    }
   ],
   "source": [
    "# Like Python's range, but returns an array\n",
    "\n",
    "y = np.arange(10)\n",
    "y"
   ]
  },
  {
   "cell_type": "code",
   "execution_count": 4,
   "metadata": {},
   "outputs": [
    {
     "data": {
      "text/plain": [
       "array([[0, 1, 2],\n",
       "       [3, 4, 5],\n",
       "       [6, 7, 8]])"
      ]
     },
     "execution_count": 4,
     "metadata": {},
     "output_type": "execute_result"
    }
   ],
   "source": [
    "# A simple way to create a matrix\n",
    "\n",
    "z = np.array([[0, 1, 2], [3, 4, 5], [6, 7, 8]])\n",
    "z"
   ]
  },
  {
   "cell_type": "code",
   "execution_count": 5,
   "metadata": {},
   "outputs": [
    {
     "data": {
      "text/plain": [
       "array([[0, 1, 2],\n",
       "       [3, 4, 5],\n",
       "       [6, 7, 8]])"
      ]
     },
     "execution_count": 5,
     "metadata": {},
     "output_type": "execute_result"
    }
   ],
   "source": [
    "# Simpler the above is equivalent with\n",
    "\n",
    "z = np.arange(9).reshape(3, 3)\n",
    "z"
   ]
  },
  {
   "cell_type": "code",
   "execution_count": 6,
   "metadata": {},
   "outputs": [
    {
     "data": {
      "text/plain": [
       "array([[ 0,  1,  4],\n",
       "       [ 9, 16, 25],\n",
       "       [36, 49, 64]], dtype=int32)"
      ]
     },
     "execution_count": 6,
     "metadata": {},
     "output_type": "execute_result"
    }
   ],
   "source": [
    "# We can square each element of a matrix\n",
    "\n",
    "z**2"
   ]
  },
  {
   "cell_type": "code",
   "execution_count": 7,
   "metadata": {},
   "outputs": [
    {
     "data": {
      "text/plain": [
       "array([[0, 3, 6],\n",
       "       [1, 4, 7],\n",
       "       [2, 5, 8]])"
      ]
     },
     "execution_count": 7,
     "metadata": {},
     "output_type": "execute_result"
    }
   ],
   "source": [
    "# We can get the transpose of a matrix\n",
    "\n",
    "z.T"
   ]
  },
  {
   "cell_type": "code",
   "execution_count": 8,
   "metadata": {},
   "outputs": [
    {
     "data": {
      "text/plain": [
       "array([[0, 3, 6],\n",
       "       [1, 4, 7],\n",
       "       [2, 5, 8]])"
      ]
     },
     "execution_count": 8,
     "metadata": {},
     "output_type": "execute_result"
    }
   ],
   "source": [
    "# or equivalently\n",
    "\n",
    "z.transpose()"
   ]
  },
  {
   "cell_type": "code",
   "execution_count": 9,
   "metadata": {},
   "outputs": [
    {
     "data": {
      "text/plain": [
       "array([0. , 0.4, 0.8, 1.2, 1.6, 2. ])"
      ]
     },
     "execution_count": 9,
     "metadata": {},
     "output_type": "execute_result"
    }
   ],
   "source": [
    "# We can create an array with 6 equally spaced points starting with 0 and ending with 2.\n",
    "\n",
    "np.linspace(0, 2, 6)"
   ]
  },
  {
   "cell_type": "code",
   "execution_count": 10,
   "metadata": {},
   "outputs": [],
   "source": [
    "# We can do some basic math\n",
    "\n",
    "a = np.linspace(-np.pi, np.pi, 100) \n",
    "b = np.sin(a)\n",
    "c = np.cos(a)"
   ]
  },
  {
   "cell_type": "code",
   "execution_count": 11,
   "metadata": {},
   "outputs": [
    {
     "data": {
      "image/png": "[encoded data removed]",
      "text/plain": [
       "<matplotlib.figure.Figure at 0x824cda0>"
      ]
     },
     "metadata": {},
     "output_type": "display_data"
    }
   ],
   "source": [
    "# .. and present them nicely \n",
    "import matplotlib.pyplot as plt\n",
    "%matplotlib inline\n",
    "\n",
    "plt.plot(a, b)\n",
    "plt.plot(a, c)\n",
    "plt.show()"
   ]
  },
  {
   "cell_type": "code",
   "execution_count": 12,
   "metadata": {},
   "outputs": [
    {
     "data": {
      "text/plain": [
       "array([[ 3.15251974e+15, -6.30503948e+15,  3.15251974e+15],\n",
       "       [-6.30503948e+15,  1.26100790e+16, -6.30503948e+15],\n",
       "       [ 3.15251974e+15, -6.30503948e+15,  3.15251974e+15]])"
      ]
     },
     "execution_count": 12,
     "metadata": {},
     "output_type": "execute_result"
    }
   ],
   "source": [
    "# We can also do linear algebra with np\n",
    "\n",
    "a = np.arange(1, 10).reshape(3, 3)\n",
    "\n",
    "np.linalg.inv(a)  # This is the inverse of the matrix a"
   ]
  },
  {
   "cell_type": "code",
   "execution_count": 13,
   "metadata": {},
   "outputs": [
    {
     "data": {
      "text/plain": [
       "array([-0.23333333,  0.46666667,  0.1       ])"
      ]
     },
     "execution_count": 13,
     "metadata": {},
     "output_type": "execute_result"
    }
   ],
   "source": [
    "# We can solve equations \n",
    "\n",
    "b = np.array([1, 2, 3])\n",
    "\n",
    "np.linalg.solve(a, b) # in this example we can solve ax=b"
   ]
  },
  {
   "cell_type": "code",
   "execution_count": 14,
   "metadata": {},
   "outputs": [
    {
     "data": {
      "text/plain": [
       "array([[ 1.00000000e+00,  2.86426288e-16,  9.06659472e-15],\n",
       "       [-3.15662927e-15,  1.00000000e+00, -5.47731434e-15],\n",
       "       [-2.04305558e-16, -4.88036379e-19,  1.00000000e+00]])"
      ]
     },
     "execution_count": 14,
     "metadata": {},
     "output_type": "execute_result"
    }
   ],
   "source": [
    "#  We can also do matrix multiplications\n",
    "\n",
    "c = 20*np.random.rand(3, 3)  # create a 3x3 random matrix of values within [0,1] scaled by 20\n",
    "c_rev = np.linalg.inv(c) \n",
    "\n",
    "np.dot(c_rev, c)"
   ]
  },
  {
   "cell_type": "code",
   "execution_count": 15,
   "metadata": {},
   "outputs": [
    {
     "data": {
      "text/plain": [
       "array([[ 1.00000000e+00,  2.86426288e-16,  9.06659472e-15],\n",
       "       [-3.15662927e-15,  1.00000000e+00, -5.47731434e-15],\n",
       "       [-2.04305558e-16, -4.88036379e-19,  1.00000000e+00]])"
      ]
     },
     "execution_count": 15,
     "metadata": {},
     "output_type": "execute_result"
    }
   ],
   "source": [
    "# .. or equivalently\n",
    "\n",
    "c_rev @ c"
   ]
  },
  {
   "cell_type": "code",
   "execution_count": 16,
   "metadata": {},
   "outputs": [
    {
     "data": {
      "text/plain": [
       "array([[ 1.,  0.,  0.],\n",
       "       [-0.,  1., -0.],\n",
       "       [-0., -0.,  1.]])"
      ]
     },
     "execution_count": 16,
     "metadata": {},
     "output_type": "execute_result"
    }
   ],
   "source": [
    "# We can also round the results to present them better\n",
    "\n",
    "np.round(c_rev @ c, 5)"
   ]
  },
  {
   "cell_type": "code",
   "execution_count": 17,
   "metadata": {},
   "outputs": [
    {
     "name": "stdout",
     "output_type": "stream",
     "text": [
      "1. nan\n",
      "2. nan\n",
      "3. nan\n",
      "4. nan\n",
      "5. nan\n",
      "6. nan\n",
      "7. nan\n"
     ]
    }
   ],
   "source": [
    "# Numpy has an important number the Not-A-Number (nan), this number is used as a blank without raising any errors\n",
    "# any operation involving a number and a nan, results to a nan.\n",
    "\n",
    "print('1. {}'.format(np.nan))\n",
    "print('2. {}'.format(np.nan + 3))\n",
    "print('3. {}'.format(2*np.nan))\n",
    "print('4. {}'.format(np.nan/3))\n",
    "print('5. {}'.format(3/np.nan))\n",
    "print('6. {}'.format(max(np.nan, 3)))\n",
    "print('7. {}'.format(min(np.nan, 3)))"
   ]
  },
  {
   "cell_type": "code",
   "execution_count": 18,
   "metadata": {},
   "outputs": [
    {
     "name": "stdout",
     "output_type": "stream",
     "text": [
      "The row number 1 is:\n",
      "[0 1 2]\n",
      "The row number 2 is:\n",
      "[3 4 5]\n",
      "The row number 3 is:\n",
      "[6 7 8]\n"
     ]
    }
   ],
   "source": [
    "# We can loop throw the row of an matrix\n",
    "\n",
    "a = np.arange(9).reshape(3,3)\n",
    "for index, row in enumerate(a):\n",
    "    print('The row number {} is:\\n{}'.format(index+1, row))"
   ]
  },
  {
   "cell_type": "code",
   "execution_count": 19,
   "metadata": {},
   "outputs": [
    {
     "name": "stdout",
     "output_type": "stream",
     "text": [
      "The row number 1 is:\n",
      "[0 3 6]\n",
      "The row number 2 is:\n",
      "[1 4 7]\n",
      "The row number 3 is:\n",
      "[2 5 8]\n"
     ]
    }
   ],
   "source": [
    "# We could also iterate through columns by using the transpose\n",
    "\n",
    "for index, column in enumerate(a.T):\n",
    "    print('The row number {} is:\\n{}'.format(index+1, column))"
   ]
  },
  {
   "cell_type": "code",
   "execution_count": 20,
   "metadata": {},
   "outputs": [
    {
     "data": {
      "text/plain": [
       "array([[4.15824896, 2.36302517, 5.30437514, 5.88396465],\n",
       "       [2.41611792, 5.61626651, 5.70241285, 6.00144773]])"
      ]
     },
     "execution_count": 20,
     "metadata": {},
     "output_type": "execute_result"
    }
   ],
   "source": [
    "# We can create a matrix randomly following the normal distribution\n",
    "\n",
    "mu = 5\n",
    "sigma = 3\n",
    "dimensions = (2,4)\n",
    "np.random.normal(mu, sigma, dimensions)"
   ]
  },
  {
   "cell_type": "code",
   "execution_count": 21,
   "metadata": {},
   "outputs": [
    {
     "data": {
      "text/plain": [
       "array([[2.74982918, 5.51643014, 6.0945989 , 7.66785604, 9.17903193],\n",
       "       [3.31372416, 4.12409895, 5.71926229, 6.966241  , 8.9656857 ],\n",
       "       [3.15632364, 5.00285415, 5.91677101, 7.52763   , 8.92469182],\n",
       "       [3.34327413, 4.99135076, 5.8403909 , 7.47930699, 8.94468856],\n",
       "       [2.78663295, 4.27749704, 6.21311693, 6.50403359, 8.99863524],\n",
       "       [3.17146026, 5.50666168, 5.57617855, 7.00680756, 9.02709889],\n",
       "       [3.28131806, 4.2044423 , 6.51819089, 5.16919297, 9.02221704],\n",
       "       [2.83977071, 4.87152567, 6.33377969, 6.38509842, 9.04661796],\n",
       "       [2.81532932, 5.07238035, 6.09116896, 8.43558407, 8.99839442],\n",
       "       [3.27555284, 5.82256044, 5.76062969, 6.07048051, 9.01190526],\n",
       "       [2.80724604, 4.82782938, 6.24325701, 8.15581018, 8.92202122],\n",
       "       [2.77447528, 6.04655996, 5.43324796, 8.34657791, 9.06788193],\n",
       "       [2.82159476, 4.3021325 , 6.00069848, 7.04892763, 8.88612336],\n",
       "       [2.88544055, 4.29287515, 5.72296069, 6.99796301, 9.03064828],\n",
       "       [3.30327111, 4.39807192, 6.29500423, 7.40128486, 9.0798749 ],\n",
       "       [2.99033174, 4.40015817, 6.27714253, 5.99593633, 9.00242911],\n",
       "       [3.14790783, 4.20342462, 6.02205122, 6.90830959, 8.97797247],\n",
       "       [3.2969019 , 5.0733787 , 6.03147349, 6.73391441, 9.00459158],\n",
       "       [3.26024559, 4.44125545, 5.58390997, 7.05957144, 8.9503816 ],\n",
       "       [3.09128078, 4.49469296, 5.97315807, 7.4192253 , 8.93554893]])"
      ]
     },
     "execution_count": 21,
     "metadata": {},
     "output_type": "execute_result"
    }
   ],
   "source": [
    "# We can create a matrix randomly that each column follows a different normal distribution\n",
    "\n",
    "means = [3, 5, 6, 7, 9]\n",
    "st_deviations = [0.2, 0.5, 0.3, 0.7, 0.1]\n",
    "num_rows = 20\n",
    "\n",
    "rand_matr = np.transpose([np.random.normal(mu, sigma, num_rows) for mu, sigma in zip(means, st_deviations)])\n",
    "rand_matr"
   ]
  },
  {
   "cell_type": "code",
   "execution_count": 22,
   "metadata": {},
   "outputs": [
    {
     "name": "stdout",
     "output_type": "stream",
     "text": [
      "[3.05559554 4.79350901 5.98234957 7.06398759 8.99882201]\n",
      "[0.2170665  0.56270526 0.28114186 0.78592478 0.06464679]\n"
     ]
    }
   ],
   "source": [
    "# Let us verify that the means and stds are as before\n",
    "# The means should be [3, 5, 6, 7, 9] and stds should be [0.2, 0.5, 0.3, 0.7, 0.1]\n",
    "\n",
    "print(rand_matr.mean(axis=0))\n",
    "print(rand_matr.std(axis=0))"
   ]
  },
  {
   "cell_type": "code",
   "execution_count": 23,
   "metadata": {},
   "outputs": [
    {
     "name": "stdout",
     "output_type": "stream",
     "text": [
      "[6.24154924 5.81780242 6.10565412 6.11980227 5.75598315 6.05764139\n",
      " 5.63907225 5.89535849 6.28257142 5.98822575 6.19123276 6.33374861\n",
      " 5.81189535 5.78597754 6.0955014  5.73319958 5.85193315 6.02805202\n",
      " 5.85907281 5.98278121]\n",
      "[2.16345357 2.01875357 1.99596512 1.94364697 2.11122264 1.92790149\n",
      " 2.00282164 2.03702454 2.25982845 1.82138645 2.21944639 2.24003447\n",
      " 2.10893598 2.12806192 2.06538974 2.01757724 2.04676948 1.88300947\n",
      " 1.9918439  2.06675992]\n",
      "5.978852746110622\n",
      "2.064600176342366\n"
     ]
    }
   ],
   "source": [
    "# Of course we can calculate the means and stds row-wise (not that they have a meaning in this example)\n",
    "\n",
    "print(rand_matr.mean(axis=1))\n",
    "print(rand_matr.std(axis=1))\n",
    "\n",
    "# Or the total mean and total std\n",
    "print(rand_matr.mean())\n",
    "print(rand_matr.std())"
   ]
  },
  {
   "cell_type": "code",
   "execution_count": 24,
   "metadata": {},
   "outputs": [
    {
     "data": {
      "text/plain": [
       "array([[50. , 50.1, 50.2, 50.3, 50.4],\n",
       "       [50.5, 50.6, 50.7,  nan,  nan],\n",
       "       [51. , 51.1, 51.2,  nan, 51.4],\n",
       "       [51.5,  nan, 51.7, 51.8, 51.9],\n",
       "       [52. , 52.1, 52.2, 52.3,  nan],\n",
       "       [ nan, 52.6, 52.7, 52.8, 52.9],\n",
       "       [53. ,  nan, 53.2, 53.3, 53.4],\n",
       "       [ nan, 53.6, 53.7,  nan, 53.9],\n",
       "       [54. , 54.1, 54.2, 54.3, 54.4],\n",
       "       [54.5, 54.6, 54.7, 54.8, 54.9],\n",
       "       [55.1, 55.2,  nan,  nan, 55.5],\n",
       "       [55.6, 55.7, 55.8, 55.9,  nan],\n",
       "       [56.1, 56.2, 56.3, 56.4, 56.5],\n",
       "       [56.6, 56.7, 56.8, 56.9, 57. ],\n",
       "       [ nan,  nan, 57.3,  nan, 57.5],\n",
       "       [57.6, 57.7,  nan, 57.9,  nan],\n",
       "       [ nan, 58.2, 58.3,  nan, 58.5],\n",
       "       [58.6,  nan, 58.8, 58.9, 59. ],\n",
       "       [59.1,  nan, 59.3,  nan, 59.5],\n",
       "       [59.6, 59.7,  nan, 59.9,  nan]])"
      ]
     },
     "execution_count": 24,
     "metadata": {},
     "output_type": "execute_result"
    }
   ],
   "source": [
    "# Let us create a matrix with missing values, and then we will replace the values \n",
    "# from the corresponding values of another matrix.\n",
    "\n",
    "num_rows = len(rand_matr)\n",
    "num_cols = len(rand_matr[0])\n",
    "num_del = int(0.3*num_rows*num_cols)\n",
    "\n",
    "b = np.linspace(50, 60, num_rows*num_cols).reshape(num_rows, num_cols)\n",
    "del_rows = np.random.choice(num_rows, num_del)\n",
    "del_colms = np.random.choice(num_cols, num_del)\n",
    "for x, y in zip(del_rows, del_colms):\n",
    "    b[x, y] = np.nan\n",
    "b = np.round(b, 1)\n",
    "b"
   ]
  },
  {
   "cell_type": "code",
   "execution_count": 25,
   "metadata": {},
   "outputs": [
    {
     "data": {
      "text/plain": [
       "array([[50. , 50.1, 50.2, 50.3, 50.4],\n",
       "       [50.5, 50.6, 50.7,  0. ,  0. ],\n",
       "       [51. , 51.1, 51.2,  0. , 51.4],\n",
       "       [51.5,  0. , 51.7, 51.8, 51.9],\n",
       "       [52. , 52.1, 52.2, 52.3,  0. ],\n",
       "       [ 0. , 52.6, 52.7, 52.8, 52.9],\n",
       "       [53. ,  0. , 53.2, 53.3, 53.4],\n",
       "       [ 0. , 53.6, 53.7,  0. , 53.9],\n",
       "       [54. , 54.1, 54.2, 54.3, 54.4],\n",
       "       [54.5, 54.6, 54.7, 54.8, 54.9],\n",
       "       [55.1, 55.2,  0. ,  0. , 55.5],\n",
       "       [55.6, 55.7, 55.8, 55.9,  0. ],\n",
       "       [56.1, 56.2, 56.3, 56.4, 56.5],\n",
       "       [56.6, 56.7, 56.8, 56.9, 57. ],\n",
       "       [ 0. ,  0. , 57.3,  0. , 57.5],\n",
       "       [57.6, 57.7,  0. , 57.9,  0. ],\n",
       "       [ 0. , 58.2, 58.3,  0. , 58.5],\n",
       "       [58.6,  0. , 58.8, 58.9, 59. ],\n",
       "       [59.1,  0. , 59.3,  0. , 59.5],\n",
       "       [59.6, 59.7,  0. , 59.9,  0. ]])"
      ]
     },
     "execution_count": 25,
     "metadata": {},
     "output_type": "execute_result"
    }
   ],
   "source": [
    "# Firstly, let us replace the missing values with 0\n",
    "\n",
    "np.nan_to_num(b)"
   ]
  },
  {
   "cell_type": "code",
   "execution_count": 26,
   "metadata": {},
   "outputs": [
    {
     "data": {
      "text/plain": [
       "array([[50.        , 50.1       , 50.2       , 50.3       , 50.4       ],\n",
       "       [50.5       , 50.6       , 50.7       ,  6.966241  ,  8.9656857 ],\n",
       "       [51.        , 51.1       , 51.2       ,  7.52763   , 51.4       ],\n",
       "       [51.5       ,  4.99135076, 51.7       , 51.8       , 51.9       ],\n",
       "       [52.        , 52.1       , 52.2       , 52.3       ,  8.99863524],\n",
       "       [ 3.17146026, 52.6       , 52.7       , 52.8       , 52.9       ],\n",
       "       [53.        ,  4.2044423 , 53.2       , 53.3       , 53.4       ],\n",
       "       [ 2.83977071, 53.6       , 53.7       ,  6.38509842, 53.9       ],\n",
       "       [54.        , 54.1       , 54.2       , 54.3       , 54.4       ],\n",
       "       [54.5       , 54.6       , 54.7       , 54.8       , 54.9       ],\n",
       "       [55.1       , 55.2       ,  6.24325701,  8.15581018, 55.5       ],\n",
       "       [55.6       , 55.7       , 55.8       , 55.9       ,  9.06788193],\n",
       "       [56.1       , 56.2       , 56.3       , 56.4       , 56.5       ],\n",
       "       [56.6       , 56.7       , 56.8       , 56.9       , 57.        ],\n",
       "       [ 3.30327111,  4.39807192, 57.3       ,  7.40128486, 57.5       ],\n",
       "       [57.6       , 57.7       ,  6.27714253, 57.9       ,  9.00242911],\n",
       "       [ 3.14790783, 58.2       , 58.3       ,  6.90830959, 58.5       ],\n",
       "       [58.6       ,  5.0733787 , 58.8       , 58.9       , 59.        ],\n",
       "       [59.1       ,  4.44125545, 59.3       ,  7.05957144, 59.5       ],\n",
       "       [59.6       , 59.7       ,  5.97315807, 59.9       ,  8.93554893]])"
      ]
     },
     "execution_count": 26,
     "metadata": {},
     "output_type": "execute_result"
    }
   ],
   "source": [
    "# Now we can use the rand_matrix table to fill missing values from the b matrix\n",
    "\n",
    "np.where(np.isnan(b), rand_matr, b)"
   ]
  },
  {
   "cell_type": "code",
   "execution_count": 27,
   "metadata": {},
   "outputs": [
    {
     "data": {
      "text/plain": [
       "array([[ 50. ,  50.1,  50.2,  50.3,  50.4],\n",
       "       [ 50.5,  50.6,  50.7, 767. , 767. ],\n",
       "       [ 51. ,  51.1,  51.2, 767. ,  51.4],\n",
       "       [ 51.5, 767. ,  51.7,  51.8,  51.9],\n",
       "       [ 52. ,  52.1,  52.2,  52.3, 767. ],\n",
       "       [767. ,  52.6,  52.7,  52.8,  52.9],\n",
       "       [ 53. , 767. ,  53.2,  53.3,  53.4],\n",
       "       [767. ,  53.6,  53.7, 767. ,  53.9],\n",
       "       [ 54. ,  54.1,  54.2,  54.3,  54.4],\n",
       "       [ 54.5,  54.6,  54.7,  54.8,  54.9],\n",
       "       [ 55.1,  55.2, 767. , 767. ,  55.5],\n",
       "       [ 55.6,  55.7,  55.8,  55.9, 767. ],\n",
       "       [ 56.1,  56.2,  56.3,  56.4,  56.5],\n",
       "       [ 56.6,  56.7,  56.8,  56.9,  57. ],\n",
       "       [767. , 767. ,  57.3, 767. ,  57.5],\n",
       "       [ 57.6,  57.7, 767. ,  57.9, 767. ],\n",
       "       [767. ,  58.2,  58.3, 767. ,  58.5],\n",
       "       [ 58.6, 767. ,  58.8,  58.9,  59. ],\n",
       "       [ 59.1, 767. ,  59.3, 767. ,  59.5],\n",
       "       [ 59.6,  59.7, 767. ,  59.9, 767. ]])"
      ]
     },
     "execution_count": 27,
     "metadata": {},
     "output_type": "execute_result"
    }
   ],
   "source": [
    "# Or we could use the same logic to fill the missing value with any constant number, let's say 767\n",
    "\n",
    "w = 767 * np.ones((num_rows, num_cols))\n",
    "\n",
    "np.where(np.isnan(b), w, b)"
   ]
  },
  {
   "cell_type": "code",
   "execution_count": 28,
   "metadata": {},
   "outputs": [
    {
     "data": {
      "text/plain": [
       "array([ 1,  2,  3,  4, -1, -2, -3, -4])"
      ]
     },
     "execution_count": 28,
     "metadata": {},
     "output_type": "execute_result"
    }
   ],
   "source": [
    "# Finally we can append two list\n",
    "\n",
    "a = np.array([1, 2, 3, 4])\n",
    "np.append(a, -a)"
   ]
  },
  {
   "cell_type": "code",
   "execution_count": 29,
   "metadata": {},
   "outputs": [
    {
     "data": {
      "text/plain": [
       "10"
      ]
     },
     "execution_count": 29,
     "metadata": {},
     "output_type": "execute_result"
    }
   ],
   "source": [
    "# .. or just get the sum of a list\n",
    "\n",
    "np.sum(a)"
   ]
  },
  {
   "cell_type": "code",
   "execution_count": null,
   "metadata": {},
   "outputs": [],
   "source": []
  }
 ],
 "metadata": {
  "kernelspec": {
   "display_name": "Python 3",
   "language": "python",
   "name": "python3"
  },
  "language_info": {
   "codemirror_mode": {
    "name": "ipython",
    "version": 3
   },
   "file_extension": ".py",
   "mimetype": "text/x-python",
   "name": "python",
   "nbconvert_exporter": "python",
   "pygments_lexer": "ipython3",
   "version": "3.6.4"
  }
 },
 "nbformat": 4,
 "nbformat_minor": 2
}
