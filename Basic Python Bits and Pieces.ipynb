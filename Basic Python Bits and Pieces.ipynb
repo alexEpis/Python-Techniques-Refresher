{
 "cells": [
  {
   "cell_type": "markdown",
   "metadata": {},
   "source": [
    "##### You can add/delete an element from a dictionary"
   ]
  },
  {
   "cell_type": "code",
   "execution_count": 1,
   "metadata": {},
   "outputs": [
    {
     "data": {
      "text/plain": [
       "{'a': 18, 'b': 11, 'c': 7, 'd': 16}"
      ]
     },
     "execution_count": 1,
     "metadata": {},
     "output_type": "execute_result"
    }
   ],
   "source": [
    "d1 = {'a': 18, 'b': 11, 'c': 7, 'd': 16}\n",
    "d1"
   ]
  },
  {
   "cell_type": "code",
   "execution_count": 2,
   "metadata": {},
   "outputs": [
    {
     "data": {
      "text/plain": [
       "{'a': 18, 'b': 11, 'c': 7, 'd': 16, 'z': 792}"
      ]
     },
     "execution_count": 2,
     "metadata": {},
     "output_type": "execute_result"
    }
   ],
   "source": [
    "d1['z'] = 792\n",
    "d1"
   ]
  },
  {
   "cell_type": "code",
   "execution_count": 3,
   "metadata": {},
   "outputs": [
    {
     "data": {
      "text/plain": [
       "{'a': 18, 'c': 7, 'd': 16, 'z': 792}"
      ]
     },
     "execution_count": 3,
     "metadata": {},
     "output_type": "execute_result"
    }
   ],
   "source": [
    "del d1['b']\n",
    "d1"
   ]
  },
  {
   "cell_type": "markdown",
   "metadata": {},
   "source": [
    "#### There are many operations that you can do in Lists as well"
   ]
  },
  {
   "cell_type": "code",
   "execution_count": 4,
   "metadata": {},
   "outputs": [
    {
     "data": {
      "text/plain": [
       "[1, 2, 3, 4, 5, 6, 7, 8]"
      ]
     },
     "execution_count": 4,
     "metadata": {},
     "output_type": "execute_result"
    }
   ],
   "source": [
    "a = [1, 2, 3, 4, 5, 6, 7, 8]\n",
    "a"
   ]
  },
  {
   "cell_type": "code",
   "execution_count": 5,
   "metadata": {},
   "outputs": [
    {
     "data": {
      "text/plain": [
       "[1, 2, 3, 4, 5, 6, 7, 8, 9]"
      ]
     },
     "execution_count": 5,
     "metadata": {},
     "output_type": "execute_result"
    }
   ],
   "source": [
    "a.append(9) # Add an element at the end\n",
    "a"
   ]
  },
  {
   "cell_type": "code",
   "execution_count": 6,
   "metadata": {},
   "outputs": [
    {
     "name": "stdout",
     "output_type": "stream",
     "text": [
      "[1, 2, 3, 4, 5, 6, 7, 8]\n",
      "9\n"
     ]
    }
   ],
   "source": [
    "b = a.pop() # Delete an element from the end\n",
    "print(a)\n",
    "print(b)"
   ]
  },
  {
   "cell_type": "code",
   "execution_count": 7,
   "metadata": {},
   "outputs": [
    {
     "data": {
      "text/plain": [
       "[3, 4, 5, 6, 7, 8]"
      ]
     },
     "execution_count": 7,
     "metadata": {},
     "output_type": "execute_result"
    }
   ],
   "source": [
    "a[2:] # Get all the elements of the list starting from the third element (reminder: counting in Python starts with 0) "
   ]
  },
  {
   "cell_type": "code",
   "execution_count": 8,
   "metadata": {},
   "outputs": [
    {
     "data": {
      "text/plain": [
       "[2, 3, 4]"
      ]
     },
     "execution_count": 8,
     "metadata": {},
     "output_type": "execute_result"
    }
   ],
   "source": [
    "a[1: 4] # Get all the elements of the list starting from the second element up to the fith element (without the fith)"
   ]
  },
  {
   "cell_type": "code",
   "execution_count": 9,
   "metadata": {},
   "outputs": [
    {
     "data": {
      "text/plain": [
       "[5, 4, 3]"
      ]
     },
     "execution_count": 9,
     "metadata": {},
     "output_type": "execute_result"
    }
   ],
   "source": [
    "a[4: 1: -1] # We can read the elements in a different direction"
   ]
  },
  {
   "cell_type": "code",
   "execution_count": 10,
   "metadata": {},
   "outputs": [
    {
     "data": {
      "text/plain": [
       "[1, 3, 5, 7]"
      ]
     },
     "execution_count": 10,
     "metadata": {},
     "output_type": "execute_result"
    }
   ],
   "source": [
    "a[::2]  # or we can return every second element"
   ]
  },
  {
   "cell_type": "code",
   "execution_count": 11,
   "metadata": {},
   "outputs": [
    {
     "data": {
      "text/plain": [
       "[8, 6, 4, 2]"
      ]
     },
     "execution_count": 11,
     "metadata": {},
     "output_type": "execute_result"
    }
   ],
   "source": [
    "a[::-2]  # or every second element in reverse"
   ]
  },
  {
   "cell_type": "code",
   "execution_count": 12,
   "metadata": {},
   "outputs": [
    {
     "data": {
      "text/plain": [
       "[2, 3, 4, 5]"
      ]
     },
     "execution_count": 12,
     "metadata": {},
     "output_type": "execute_result"
    }
   ],
   "source": [
    "a[1: -3] # Get all the elements of the list starting from the second element up to the third last element"
   ]
  },
  {
   "cell_type": "code",
   "execution_count": 13,
   "metadata": {},
   "outputs": [
    {
     "data": {
      "text/plain": [
       "[1, 2, 3, 4, 5, 6, 7, 8, 9, 10, 11]"
      ]
     },
     "execution_count": 13,
     "metadata": {},
     "output_type": "execute_result"
    }
   ],
   "source": [
    "a + [9, 10, 11] # Append a list to another"
   ]
  },
  {
   "cell_type": "markdown",
   "metadata": {},
   "source": [
    "### Strings work very similar to lists"
   ]
  },
  {
   "cell_type": "code",
   "execution_count": 14,
   "metadata": {},
   "outputs": [
    {
     "data": {
      "text/plain": [
       "'Hello World!'"
      ]
     },
     "execution_count": 14,
     "metadata": {},
     "output_type": "execute_result"
    }
   ],
   "source": [
    "a = \"Hello World!\"\n",
    "a"
   ]
  },
  {
   "cell_type": "code",
   "execution_count": 15,
   "metadata": {},
   "outputs": [
    {
     "data": {
      "text/plain": [
       "'ell'"
      ]
     },
     "execution_count": 15,
     "metadata": {},
     "output_type": "execute_result"
    }
   ],
   "source": [
    "a[1: 4] # Get all the elements of the string starting from the second element up to the fith element (without the fith)"
   ]
  },
  {
   "cell_type": "code",
   "execution_count": 16,
   "metadata": {},
   "outputs": [
    {
     "data": {
      "text/plain": [
       "'HELLO WORLD!'"
      ]
     },
     "execution_count": 16,
     "metadata": {},
     "output_type": "execute_result"
    }
   ],
   "source": [
    "a.upper() # Capitalize all letters"
   ]
  },
  {
   "cell_type": "code",
   "execution_count": 17,
   "metadata": {},
   "outputs": [
    {
     "data": {
      "text/plain": [
       "'hello world!'"
      ]
     },
     "execution_count": 17,
     "metadata": {},
     "output_type": "execute_result"
    }
   ],
   "source": [
    "a.lower() # Make all letters to lower letters"
   ]
  },
  {
   "cell_type": "code",
   "execution_count": 18,
   "metadata": {},
   "outputs": [
    {
     "data": {
      "text/plain": [
       "3"
      ]
     },
     "execution_count": 18,
     "metadata": {},
     "output_type": "execute_result"
    }
   ],
   "source": [
    "a.count('l') # Count the number of appearences of another string"
   ]
  },
  {
   "cell_type": "code",
   "execution_count": 19,
   "metadata": {},
   "outputs": [
    {
     "data": {
      "text/plain": [
       "'Hello There!'"
      ]
     },
     "execution_count": 19,
     "metadata": {},
     "output_type": "execute_result"
    }
   ],
   "source": [
    "a.replace('World', 'There') # Replace a substring of a string to another substring"
   ]
  },
  {
   "cell_type": "code",
   "execution_count": 20,
   "metadata": {},
   "outputs": [
    {
     "data": {
      "text/plain": [
       "['abc', '1', 'def', '2', 'jgh']"
      ]
     },
     "execution_count": 20,
     "metadata": {},
     "output_type": "execute_result"
    }
   ],
   "source": [
    "'abc.1.def.2.jgh'.split('.') # Split a string according to somthing, in this example to the string ."
   ]
  },
  {
   "cell_type": "code",
   "execution_count": 21,
   "metadata": {},
   "outputs": [
    {
     "data": {
      "text/plain": [
       "'613-444-4516'"
      ]
     },
     "execution_count": 21,
     "metadata": {},
     "output_type": "execute_result"
    }
   ],
   "source": [
    "'-'.join(['613', '444', '4516']) # Join a list together to a string by placing a seperator in the middle of the list's elements"
   ]
  },
  {
   "cell_type": "code",
   "execution_count": 22,
   "metadata": {},
   "outputs": [
    {
     "data": {
      "text/plain": [
       "True"
      ]
     },
     "execution_count": 22,
     "metadata": {},
     "output_type": "execute_result"
    }
   ],
   "source": [
    "'orl' in a # Check whether the string 'orl' is in the string \"Hello World!\""
   ]
  },
  {
   "cell_type": "code",
   "execution_count": 23,
   "metadata": {},
   "outputs": [
    {
     "data": {
      "text/plain": [
       "False"
      ]
     },
     "execution_count": 23,
     "metadata": {},
     "output_type": "execute_result"
    }
   ],
   "source": [
    "'hola' in a # Check whether the string 'hola' is in the string \"Hello World!\""
   ]
  },
  {
   "cell_type": "code",
   "execution_count": 24,
   "metadata": {},
   "outputs": [
    {
     "data": {
      "text/plain": [
       "'34'"
      ]
     },
     "execution_count": 24,
     "metadata": {},
     "output_type": "execute_result"
    }
   ],
   "source": [
    "str(34) # Transform an non-string object to a string object (letter we will see how it works 'under the hood')"
   ]
  },
  {
   "cell_type": "code",
   "execution_count": 25,
   "metadata": {},
   "outputs": [
    {
     "data": {
      "text/plain": [
       "'Normally the first letter should capital'"
      ]
     },
     "execution_count": 25,
     "metadata": {},
     "output_type": "execute_result"
    }
   ],
   "source": [
    "'normally the first letter should capital'.capitalize()"
   ]
  },
  {
   "cell_type": "code",
   "execution_count": 26,
   "metadata": {},
   "outputs": [
    {
     "data": {
      "text/plain": [
       "'But For Titles The First Letter Of Each Word Should Be Capital'"
      ]
     },
     "execution_count": 26,
     "metadata": {},
     "output_type": "execute_result"
    }
   ],
   "source": [
    "'but for titles the first letter of each word should be capital'.title()"
   ]
  },
  {
   "cell_type": "code",
   "execution_count": 27,
   "metadata": {},
   "outputs": [
    {
     "name": "stdout",
     "output_type": "stream",
     "text": [
      "True\n",
      "False\n",
      "True\n",
      "False\n"
     ]
    }
   ],
   "source": [
    "s = 'Look at the start and ending.'\n",
    "\n",
    "print(s.endswith('nding.'))\n",
    "print(s.endswith('bank'))\n",
    "print(s.startswith('Look'))\n",
    "print(s.startswith('look')) # Notice that it is case sensitive"
   ]
  },
  {
   "cell_type": "markdown",
   "metadata": {},
   "source": [
    "#### Formatting of strings is very useful as well. Some basics with the string.format():"
   ]
  },
  {
   "cell_type": "code",
   "execution_count": 28,
   "metadata": {},
   "outputs": [
    {
     "data": {
      "text/plain": [
       "'Hello John!'"
      ]
     },
     "execution_count": 28,
     "metadata": {},
     "output_type": "execute_result"
    }
   ],
   "source": [
    "'Hello {}!'.format('John') # Replaces the '{}' with the givan parameter"
   ]
  },
  {
   "cell_type": "code",
   "execution_count": 29,
   "metadata": {},
   "outputs": [
    {
     "data": {
      "text/plain": [
       "'My name is Alex and I am in my 30s.'"
      ]
     },
     "execution_count": 29,
     "metadata": {},
     "output_type": "execute_result"
    }
   ],
   "source": [
    "'My name is {} and I am in my {}s.'.format('Alex', 30) # We can put more than one parameters and we can put non-string objects"
   ]
  },
  {
   "cell_type": "code",
   "execution_count": 30,
   "metadata": {},
   "outputs": [
    {
     "data": {
      "text/plain": [
       "'Paul is a man. Paul is in his 40 and he likes bicycling'"
      ]
     },
     "execution_count": 30,
     "metadata": {},
     "output_type": "execute_result"
    }
   ],
   "source": [
    "# We can use the same papameter multiple times and we can change the order of the parameters\n",
    "'{0} is a man. {0} is in his {2} and he likes {1}'.format('Paul', 'bicycling', 40)"
   ]
  },
  {
   "cell_type": "code",
   "execution_count": 31,
   "metadata": {},
   "outputs": [
    {
     "data": {
      "text/plain": [
       "'322,123,457,456.21313'"
      ]
     },
     "execution_count": 31,
     "metadata": {},
     "output_type": "execute_result"
    }
   ],
   "source": [
    "a= 322123457456.21314565\n",
    "'{:,}'.format(a) # We can present numbers with ',' for thousants"
   ]
  },
  {
   "cell_type": "code",
   "execution_count": 32,
   "metadata": {},
   "outputs": [
    {
     "data": {
      "text/plain": [
       "'322,123,457,456.21'"
      ]
     },
     "execution_count": 32,
     "metadata": {},
     "output_type": "execute_result"
    }
   ],
   "source": [
    "'{:,}'.format(round(a, 2)) # We can present numbers even better by rounding them"
   ]
  },
  {
   "cell_type": "markdown",
   "metadata": {},
   "source": [
    "### If statements in one line"
   ]
  },
  {
   "cell_type": "code",
   "execution_count": 33,
   "metadata": {},
   "outputs": [
    {
     "data": {
      "text/plain": [
       "'The variable \"a\" is True'"
      ]
     },
     "execution_count": 33,
     "metadata": {},
     "output_type": "execute_result"
    }
   ],
   "source": [
    "a = True\n",
    "'The variable \"a\" is True' if a else 'The variable \"a\" is False after all'"
   ]
  },
  {
   "cell_type": "code",
   "execution_count": 34,
   "metadata": {},
   "outputs": [
    {
     "data": {
      "text/plain": [
       "'The variable \"a\" is False after all'"
      ]
     },
     "execution_count": 34,
     "metadata": {},
     "output_type": "execute_result"
    }
   ],
   "source": [
    "a = False\n",
    "'The variable \"a\" is True' if a else 'The variable \"a\" is False after all'"
   ]
  },
  {
   "cell_type": "markdown",
   "metadata": {},
   "source": [
    "### List and Dictionary Comprehension"
   ]
  },
  {
   "cell_type": "code",
   "execution_count": 35,
   "metadata": {},
   "outputs": [
    {
     "data": {
      "text/plain": [
       "['USD.SPY.PRICE',\n",
       " 'USD.QQQ.PRICE',\n",
       " 'USD.ES1.PRICE',\n",
       " 'USD.SPX.PRICE',\n",
       " 'USD.SP1.PRICE']"
      ]
     },
     "execution_count": 35,
     "metadata": {},
     "output_type": "execute_result"
    }
   ],
   "source": [
    "# You can create a list with a for loop within the list\n",
    "['USD.{}.PRICE'.format(x) for x in ['SPY', 'QQQ', 'ES1', 'SPX', 'SP1']]"
   ]
  },
  {
   "cell_type": "code",
   "execution_count": 36,
   "metadata": {},
   "outputs": [
    {
     "data": {
      "text/plain": [
       "[2, 4, 6, 8, 10, 12, 14, 16, 18]"
      ]
     },
     "execution_count": 36,
     "metadata": {},
     "output_type": "execute_result"
    }
   ],
   "source": [
    "# We can also loop with a condition (the range would be explained later)\n",
    "[x for x in range(1, 20) if x%2==0]"
   ]
  },
  {
   "cell_type": "code",
   "execution_count": 37,
   "metadata": {},
   "outputs": [
    {
     "data": {
      "text/plain": [
       "{'a': 1, 'b': 2, 'c': 3}"
      ]
     },
     "execution_count": 37,
     "metadata": {},
     "output_type": "execute_result"
    }
   ],
   "source": [
    "# We can fo the same for a dictionary, we can also have a double loop (zip will be exaplained later)\n",
    "{x: y for x, y in zip(['a', 'b', 'c'], [1, 2, 3])}"
   ]
  },
  {
   "cell_type": "markdown",
   "metadata": {},
   "source": [
    "### Special Python Functions"
   ]
  },
  {
   "cell_type": "markdown",
   "metadata": {},
   "source": [
    "#### In this sections some special Python function will be explained, such as range, zip, and enumerate"
   ]
  },
  {
   "cell_type": "markdown",
   "metadata": {},
   "source": [
    "##### The build in function range produces and iterator with all the numbers, with similar logic to list comprehension.\n",
    "##### Range is very useful for loop statements."
   ]
  },
  {
   "cell_type": "code",
   "execution_count": 38,
   "metadata": {},
   "outputs": [
    {
     "name": "stdout",
     "output_type": "stream",
     "text": [
      "2\n",
      "3\n",
      "4\n"
     ]
    }
   ],
   "source": [
    "# We can also specify the begining of the range as well\n",
    "\n",
    "for i in range(2, 5):\n",
    "    print(i)"
   ]
  },
  {
   "cell_type": "code",
   "execution_count": 39,
   "metadata": {},
   "outputs": [
    {
     "name": "stdout",
     "output_type": "stream",
     "text": [
      "2\n",
      "4\n"
     ]
    }
   ],
   "source": [
    "# We can also specify the step of the iterator\n",
    "\n",
    "for i in range(2, 5, 2):\n",
    "    print(i)"
   ]
  },
  {
   "cell_type": "code",
   "execution_count": 40,
   "metadata": {},
   "outputs": [
    {
     "name": "stdout",
     "output_type": "stream",
     "text": [
      "-10\n",
      "-9\n",
      "-8\n",
      "-7\n"
     ]
    }
   ],
   "source": [
    "# We can also iterate throw negative numbers\n",
    "\n",
    "for i in range(-10, -6):\n",
    "    print(i)"
   ]
  },
  {
   "cell_type": "code",
   "execution_count": 41,
   "metadata": {},
   "outputs": [
    {
     "name": "stdout",
     "output_type": "stream",
     "text": [
      "2\n",
      "0\n",
      "-2\n",
      "-4\n",
      "-6\n",
      "-8\n"
     ]
    }
   ],
   "source": [
    "# We can also negative step\n",
    "\n",
    "for i in range(2, -10, -2):\n",
    "    print(i)"
   ]
  },
  {
   "cell_type": "code",
   "execution_count": 42,
   "metadata": {},
   "outputs": [
    {
     "name": "stdout",
     "output_type": "stream",
     "text": [
      "Hello\n",
      "Hello\n",
      "Hello\n",
      "Hello\n"
     ]
    }
   ],
   "source": [
    "# If we just want some repetition but we don't really need any looping variable, or something like that\n",
    "# we can just leave the number of the variable empty\n",
    "\n",
    "for _ in range(4):\n",
    "    print('Hello')"
   ]
  },
  {
   "cell_type": "markdown",
   "metadata": {},
   "source": [
    "#### Sometimes we would like to loop from two or more lists simultaneously, this is where the zip function is used."
   ]
  },
  {
   "cell_type": "code",
   "execution_count": 43,
   "metadata": {},
   "outputs": [
    {
     "name": "stdout",
     "output_type": "stream",
     "text": [
      "a 1\n",
      "b 2\n",
      "c 3\n"
     ]
    }
   ],
   "source": [
    "# let us see a simple example\n",
    "\n",
    "a = ['a', 'b', 'c']\n",
    "b = [1, 2, 3]\n",
    "\n",
    "for x, y in zip(a, b):\n",
    "    print(x, y)"
   ]
  },
  {
   "cell_type": "code",
   "execution_count": 44,
   "metadata": {},
   "outputs": [
    {
     "name": "stdout",
     "output_type": "stream",
     "text": [
      "('a', 1)\n",
      "('b', 2)\n",
      "('c', 3)\n"
     ]
    }
   ],
   "source": [
    "# If we give only only variable for looping throw the result of the zip iterator then the variable will be a tuple\n",
    "\n",
    "for i in zip(a, b):\n",
    "    print(i)"
   ]
  },
  {
   "cell_type": "markdown",
   "metadata": {},
   "source": [
    "#### Sometimes we want to iterate throw a list, but we also want to have the index of its elements as we iterate throw them. This is when the enumerate function is used."
   ]
  },
  {
   "cell_type": "code",
   "execution_count": 45,
   "metadata": {},
   "outputs": [
    {
     "name": "stdout",
     "output_type": "stream",
     "text": [
      "0 a\n",
      "1 b\n",
      "2 c\n"
     ]
    }
   ],
   "source": [
    "# A simple example of using the enumerate function\n",
    "\n",
    "for index, element in enumerate(a):\n",
    "    print(index, element)"
   ]
  },
  {
   "cell_type": "markdown",
   "metadata": {},
   "source": [
    "## User Defined Functions\n",
    "\n",
    "### As in any programming language you can define your own functions."
   ]
  },
  {
   "cell_type": "code",
   "execution_count": 46,
   "metadata": {},
   "outputs": [
    {
     "data": {
      "text/plain": [
       "8"
      ]
     },
     "execution_count": 46,
     "metadata": {},
     "output_type": "execute_result"
    }
   ],
   "source": [
    "# A simple example of defining a function\n",
    "\n",
    "def mysum(a, b):\n",
    "    return a+b\n",
    "\n",
    "mysum(3, 5)"
   ]
  },
  {
   "cell_type": "code",
   "execution_count": 47,
   "metadata": {},
   "outputs": [
    {
     "name": "stdout",
     "output_type": "stream",
     "text": [
      "The result of the above function with input 3 is: 3\n",
      "The result of the above function with input 3, 5 is: 8\n",
      "The result of the above function with input 2, 3, 5 is: 10\n"
     ]
    }
   ],
   "source": [
    "# Perhaps we do not know how many input parameters the function will take. Then, we can use the *args Python option.\n",
    "\n",
    "def my_unlimited_sum(*args):\n",
    "    return sum(args)\n",
    "\n",
    "print('The result of the above function with input {} is: {}'.format(3, my_unlimited_sum(3)))\n",
    "print('The result of the above function with input {}, {} is: {}'.format(3, 5, my_unlimited_sum(3, 5)))\n",
    "print('The result of the above function with input {}, {}, {} is: {}'.format(2, 3, 5, my_unlimited_sum(2, 3, 5)))"
   ]
  },
  {
   "cell_type": "code",
   "execution_count": 48,
   "metadata": {},
   "outputs": [
    {
     "name": "stdout",
     "output_type": "stream",
     "text": [
      "The value of name is Alex\n",
      "The value of state is Awake\n",
      "The value of num_of_legs is 2\n",
      "The value of currently_sitting is True\n",
      "The type of the input is <class 'dict'>\n",
      "The input is {'name': 'Alex', 'state': 'Awake', 'num_of_legs': 2, 'currently_sitting': True}\n"
     ]
    }
   ],
   "source": [
    "# Another similar concept to the mupliple input parameter, *args, we can use the **kwargs to get mapped keywords to values\n",
    "\n",
    "def print_inf(**kwargs):\n",
    "    for key, value in kwargs.items():\n",
    "        print(\"The value of {} is {}\".format(key, value))\n",
    "    print(\"The type of the input is {}\".format(type(kwargs)))\n",
    "    print(\"The input is {}\".format(kwargs))\n",
    "    \n",
    "print_inf(name='Alex', state='Awake', num_of_legs=2, currently_sitting=True)"
   ]
  },
  {
   "cell_type": "markdown",
   "metadata": {},
   "source": [
    "## Functional Programming\n",
    "\n",
    "#### There is another approach to programming which is called functional programming. This treats computation as the evaluation of mathematical functions. Python supports elements of this type of programming paradigm."
   ]
  },
  {
   "cell_type": "markdown",
   "metadata": {},
   "source": [
    "### Lambda"
   ]
  },
  {
   "cell_type": "markdown",
   "metadata": {},
   "source": [
    "#### The reserved word lambda in Python is used to build anonymous functions. \n",
    "#### This type of functions are useful when we need to define a function used one time and it is simple to define."
   ]
  },
  {
   "cell_type": "code",
   "execution_count": 49,
   "metadata": {},
   "outputs": [
    {
     "name": "stdout",
     "output_type": "stream",
     "text": [
      "<function <lambda> at 0x0000000006A960D0>\n",
      "9\n",
      "25\n"
     ]
    }
   ],
   "source": [
    "# The syntax of the lambda funcions is after the keyword \"lambda\" we define the input parameters, followed by the symbol \":\", \n",
    "# followed by what the function should return.\n",
    "\n",
    "f = lambda x: x**2\n",
    "\n",
    "print(f)\n",
    "print(f(3))\n",
    "print(f(5))"
   ]
  },
  {
   "cell_type": "code",
   "execution_count": 50,
   "metadata": {},
   "outputs": [],
   "source": [
    "# The above function is equivalent to the following function\n",
    "\n",
    "def squared(x):\n",
    "    return x**2"
   ]
  },
  {
   "cell_type": "markdown",
   "metadata": {},
   "source": [
    "### map \n",
    "#### One of the common things we do with a list is applying an operation to each item and collect the result."
   ]
  },
  {
   "cell_type": "code",
   "execution_count": 51,
   "metadata": {},
   "outputs": [
    {
     "data": {
      "text/plain": [
       "[1, 4, 9, 16]"
      ]
     },
     "execution_count": 51,
     "metadata": {},
     "output_type": "execute_result"
    }
   ],
   "source": [
    "# For example let's define a list and then get each of its elements squared\n",
    "\n",
    "a = [1, 2, 3, 4]\n",
    "\n",
    "list(map(squared, a))"
   ]
  },
  {
   "cell_type": "code",
   "execution_count": 52,
   "metadata": {},
   "outputs": [
    {
     "data": {
      "text/plain": [
       "[1, 4, 9, 16]"
      ]
     },
     "execution_count": 52,
     "metadata": {},
     "output_type": "execute_result"
    }
   ],
   "source": [
    "# Perhaps as you probably already guessed the above is equivalent with\n",
    "\n",
    "list(map(lambda x: x**2, a))"
   ]
  },
  {
   "cell_type": "code",
   "execution_count": 53,
   "metadata": {},
   "outputs": [
    {
     "data": {
      "text/plain": [
       "<map at 0x6a8bac8>"
      ]
     },
     "execution_count": 53,
     "metadata": {},
     "output_type": "execute_result"
    }
   ],
   "source": [
    "# Note however, that the map does not return a list directly but an iterator (in this case called map object)\n",
    "\n",
    "map(lambda x: x**2, a)"
   ]
  },
  {
   "cell_type": "code",
   "execution_count": 54,
   "metadata": {},
   "outputs": [
    {
     "data": {
      "text/plain": [
       "[2, 3, 5, 6, 8]"
      ]
     },
     "execution_count": 54,
     "metadata": {},
     "output_type": "execute_result"
    }
   ],
   "source": [
    "# map can also used for functions with multiple input parameters\n",
    "\n",
    "list(map(lambda x, y: x+y, [1, 2, 3, 4, 5], [1, 1, 2, 2, 3]))"
   ]
  },
  {
   "cell_type": "markdown",
   "metadata": {},
   "source": [
    "### filter \n",
    "#### As the name suggests filter extracts each element in the sequence for which the function returns True."
   ]
  },
  {
   "cell_type": "code",
   "execution_count": 55,
   "metadata": {},
   "outputs": [
    {
     "data": {
      "text/plain": [
       "[0, 2, 4, 6, 8, 10, 12, 14]"
      ]
     },
     "execution_count": 55,
     "metadata": {},
     "output_type": "execute_result"
    }
   ],
   "source": [
    "# A simple example is to take only the even elements of a list\n",
    "\n",
    "a = [x for x in range(15)]\n",
    "\n",
    "list(filter(lambda x: x%2==0, a))"
   ]
  },
  {
   "cell_type": "code",
   "execution_count": 56,
   "metadata": {},
   "outputs": [
    {
     "data": {
      "text/plain": [
       "[0, 1, 2, 3, 4, 5, 6, 7, 8]"
      ]
     },
     "execution_count": 56,
     "metadata": {},
     "output_type": "execute_result"
    }
   ],
   "source": [
    "# Another example is to take only the elements of a list that are less than a specific/fixed value\n",
    "\n",
    "list(filter(lambda x: x < 9, a))"
   ]
  },
  {
   "cell_type": "code",
   "execution_count": 57,
   "metadata": {},
   "outputs": [
    {
     "data": {
      "text/plain": [
       "[2, 3, 5, 7]"
      ]
     },
     "execution_count": 57,
     "metadata": {},
     "output_type": "execute_result"
    }
   ],
   "source": [
    "# Another interesting useful example is to get the common elements of two \n",
    "# lists (with the order of one of the lists - in this case of the list b)\n",
    "\n",
    "a = [5,7,9,1,2,3]\n",
    "b = [2,3,5,6,7,8]\n",
    "list(filter(lambda x: x in a, b))"
   ]
  },
  {
   "cell_type": "markdown",
   "metadata": {},
   "source": [
    "### reduce \n",
    "#### The reduce function is a little less obvious in its intent. This function reduces a list to a single value by combining elements via a supplied function, i.e. it accepts an iterator to process, but it's not an iterator itself. At each step, reduce passes the current result of the operation, along with the next item from the list, to the passed-in lambda function."
   ]
  },
  {
   "cell_type": "code",
   "execution_count": 58,
   "metadata": {},
   "outputs": [
    {
     "data": {
      "text/plain": [
       "24"
      ]
     },
     "execution_count": 58,
     "metadata": {},
     "output_type": "execute_result"
    }
   ],
   "source": [
    "# The reduce is in the functools in Python 3.0, i.e. we have to import it before we use it.\n",
    "from functools import reduce\n",
    "\n",
    "reduce( (lambda x, y: x * y), [1, 2, 3, 4] )"
   ]
  },
  {
   "cell_type": "code",
   "execution_count": 59,
   "metadata": {},
   "outputs": [
    {
     "data": {
      "text/plain": [
       "24"
      ]
     },
     "execution_count": 59,
     "metadata": {},
     "output_type": "execute_result"
    }
   ],
   "source": [
    "# The above then is equivalent with the following\n",
    "\n",
    "a = [1, 2, 3, 4]\n",
    "result = a[0]\n",
    "for x in a[1:]:\n",
    "    result = result * x\n",
    "\n",
    "result"
   ]
  },
  {
   "cell_type": "markdown",
   "metadata": {},
   "source": [
    "### Object basics"
   ]
  },
  {
   "cell_type": "markdown",
   "metadata": {},
   "source": [
    "#### Objects are an encapsulation of variables and functions into a single entity. Objects get their variables and functions from classes. Classes are essentially a template to create your objects.\n",
    "\n",
    "#### Objects are used to simplify the arcitecture of projects by grouping together variables, functions etc. For example like in the real world when we want to sent a letter to someone we just take the letter to the post office, we are not interesting in the exact process that the letter arrives to the dectination. Similarly, objects create this level of abstraction and allows us to focus mainly on the input and output of objects instead of how exactly they work \"under the hood\".\n",
    "\n",
    "#### This is a mini-introductions of how objects work under the hood."
   ]
  },
  {
   "cell_type": "code",
   "execution_count": 60,
   "metadata": {},
   "outputs": [
    {
     "data": {
      "text/plain": [
       "<__main__.MyClass at 0x6a3b2b0>"
      ]
     },
     "execution_count": 60,
     "metadata": {},
     "output_type": "execute_result"
    }
   ],
   "source": [
    "# A very basic class would look something like this:\n",
    "\n",
    "class MyClass:\n",
    "    variable = \"blah\"\n",
    "\n",
    "    def function(self):\n",
    "        print(\"This is a message inside the class.\")\n",
    "        \n",
    "a = MyClass()\n",
    "a"
   ]
  },
  {
   "cell_type": "code",
   "execution_count": 61,
   "metadata": {},
   "outputs": [
    {
     "name": "stdout",
     "output_type": "stream",
     "text": [
      "blah\n",
      "This is a message inside the class.\n"
     ]
    }
   ],
   "source": [
    "# Now that we have define the object \"a\" which is an instance of our class MyClass, we can access it's variables \n",
    "# and functions (functions within an object are called methods)\n",
    "\n",
    "print(a.variable)\n",
    "\n",
    "a.function()"
   ]
  },
  {
   "cell_type": "markdown",
   "metadata": {},
   "source": [
    "#### Perhaps you noticed that the method \"function\" has an input parameter even if it is not used anywhere. Each method, in Python, when it is defined the first input is reserved for specifying the object itself (the object that the method is defined at). We could use any word as this special first paramter, however, by convetion the word \"self\" is used (other words would work as well, just you would confuse and annoy other programmers when they would read your code). "
   ]
  },
  {
   "cell_type": "code",
   "execution_count": 62,
   "metadata": {},
   "outputs": [
    {
     "name": "stdout",
     "output_type": "stream",
     "text": [
      "The stored numbers are 0 and 0. The result of the strange addition for these numbers is 0.\n",
      "The stored numbers are 3 and 5. The result of the strange addition for these numbers is 13.\n"
     ]
    }
   ],
   "source": [
    "# You may wonder why we need to reffer to the object itself (by using self). Imagine that a method of an object \n",
    "# requires to use another method within the same object. Since we are currently defining the class, there is no\n",
    "# easy way to refer to the object/class otherwise. Let us see an example.\n",
    "\n",
    "class numbers:\n",
    "    v1 = 0\n",
    "    v2 = 0\n",
    "    \n",
    "    def set_variables(self, x, y):\n",
    "        self.v1 = x\n",
    "        self.v2 = y\n",
    "        \n",
    "    def strange_addition(self, x, y):\n",
    "        return x+y+y\n",
    "    \n",
    "    def print_info(self):\n",
    "        print('The stored numbers are {} and {}. The result of the strange addition for these numbers is {}.'\n",
    "              .format(self.v1, self.v2, self.strange_addition(self.v1, self.v2)))\n",
    "        \n",
    "a = numbers()\n",
    "\n",
    "a.print_info()\n",
    "\n",
    "a.set_variables(3, 5)\n",
    "\n",
    "a.print_info()"
   ]
  },
  {
   "cell_type": "code",
   "execution_count": 63,
   "metadata": {},
   "outputs": [
    {
     "name": "stdout",
     "output_type": "stream",
     "text": [
      "The stored numbers are 0 and 0. The result of the strange addition for these numbers is 0.\n",
      "The stored numbers are 3 and 5. The result of the strange addition for these numbers is 13.\n"
     ]
    }
   ],
   "source": [
    "# There are special methods for Python objects. For example the __init__ method initialize the object and the __str__\n",
    "# method transform the object into a string which we can easily print in return.\n",
    "\n",
    "class numbers2:\n",
    "    \n",
    "    def __init__(self, v1, v2):\n",
    "        self.v1 = v1\n",
    "        self.v2 = v2\n",
    "        \n",
    "    def strange_addition(self, x, y):\n",
    "        return x+y+y\n",
    "    \n",
    "    def __str__(self):\n",
    "        return 'The stored numbers are {} and {}. The result of the strange addition for these numbers is {}.'.format(\n",
    "            self.v1, self.v2, self.strange_addition(self.v1, self.v2))\n",
    "    \n",
    "a1 = numbers2(0, 0)\n",
    "print(a1)\n",
    "\n",
    "a2 = numbers2(3, 5)\n",
    "print(a2)"
   ]
  },
  {
   "cell_type": "markdown",
   "metadata": {},
   "source": [
    "#### It is important to note that objects are stored in memory by location reference. When we assign an object to a variable, the reference to th location is assigned to the new variable. Hence, when we do changes to the object by accessing it by one variable, these changes have applied to all other variables that refer to the same object."
   ]
  },
  {
   "cell_type": "code",
   "execution_count": 64,
   "metadata": {},
   "outputs": [
    {
     "name": "stdout",
     "output_type": "stream",
     "text": [
      "3 4\n"
     ]
    }
   ],
   "source": [
    "# Let us see an example that the above problem does not appear.\n",
    "\n",
    "x = 3\n",
    "y = x\n",
    "y += 1\n",
    "\n",
    "print(x, y)"
   ]
  },
  {
   "cell_type": "code",
   "execution_count": 65,
   "metadata": {},
   "outputs": [
    {
     "name": "stdout",
     "output_type": "stream",
     "text": [
      "[1, 2, 7, 4, 5] [1, 2, 7, 4, 5]\n"
     ]
    }
   ],
   "source": [
    "# However, similar logic doens't apply for more complicated objects.\n",
    "\n",
    "x = [1, 2, 3, 4, 5]\n",
    "y = x\n",
    "y[2] = 7\n",
    "\n",
    "print(x, y)"
   ]
  },
  {
   "cell_type": "markdown",
   "metadata": {},
   "source": [
    "#### We can see in the above example that the change that we did in list y also applied to the list x. This is because in reality both variables x and y refer to the same memory location/same object."
   ]
  },
  {
   "cell_type": "code",
   "execution_count": 66,
   "metadata": {},
   "outputs": [
    {
     "name": "stdout",
     "output_type": "stream",
     "text": [
      "[1, 2, 3, 4, 5] [1, 2, 7, 4, 5]\n"
     ]
    }
   ],
   "source": [
    "# We could avoid the above problem by specifically saying to Python to create a new list\n",
    "\n",
    "x = [1, 2, 3, 4, 5]\n",
    "y = list(x)\n",
    "y[2] = 7\n",
    "\n",
    "print(x, y)"
   ]
  },
  {
   "cell_type": "code",
   "execution_count": 67,
   "metadata": {},
   "outputs": [
    {
     "name": "stdout",
     "output_type": "stream",
     "text": [
      "[1, 2, 3, 4, 5] [1, 2, 7, 4, 5]\n"
     ]
    }
   ],
   "source": [
    "# More generaly (applies to all objects not only lists):\n",
    "\n",
    "x = [1, 2, 3, 4, 5]\n",
    "y = x.copy()\n",
    "y[2] = 7\n",
    "\n",
    "print(x, y)"
   ]
  },
  {
   "cell_type": "code",
   "execution_count": null,
   "metadata": {},
   "outputs": [],
   "source": []
  }
 ],
 "metadata": {
  "kernelspec": {
   "display_name": "Python 3",
   "language": "python",
   "name": "python3"
  },
  "language_info": {
   "codemirror_mode": {
    "name": "ipython",
    "version": 3
   },
   "file_extension": ".py",
   "mimetype": "text/x-python",
   "name": "python",
   "nbconvert_exporter": "python",
   "pygments_lexer": "ipython3",
   "version": "3.6.4"
  }
 },
 "nbformat": 4,
 "nbformat_minor": 2
}
