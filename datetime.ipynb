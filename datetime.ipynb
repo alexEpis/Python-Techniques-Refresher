{
 "cells": [
  {
   "cell_type": "markdown",
   "metadata": {},
   "source": [
    "### This section deals with the DateTime object in Python.\n",
    "\n",
    "#### This object is used for dealing with dates and time."
   ]
  },
  {
   "cell_type": "code",
   "execution_count": 1,
   "metadata": {},
   "outputs": [],
   "source": [
    "# Import the corresponding library.\n",
    "\n",
    "from datetime import datetime"
   ]
  },
  {
   "cell_type": "code",
   "execution_count": 2,
   "metadata": {},
   "outputs": [
    {
     "data": {
      "text/plain": [
       "datetime.datetime(2018, 11, 9, 16, 39, 52, 361626)"
      ]
     },
     "execution_count": 2,
     "metadata": {},
     "output_type": "execute_result"
    }
   ],
   "source": [
    "# We can get the exact time and date of right-now.\n",
    "\n",
    "d_now = datetime.now()\n",
    "d_now"
   ]
  },
  {
   "cell_type": "code",
   "execution_count": 3,
   "metadata": {},
   "outputs": [
    {
     "name": "stdout",
     "output_type": "stream",
     "text": [
      "Day: 9\n",
      "Month: 11\n",
      "Year: 2018\n",
      "Hours: 16\n",
      "Minutes: 39\n",
      "Seconds: 52\n",
      "Millisecond: 361626\n"
     ]
    }
   ],
   "source": [
    "print('Day: {}'.format(d_now.day))\n",
    "print('Month: {}'.format(d_now.month))\n",
    "print('Year: {}'.format(d_now.year))\n",
    "print('Hours: {}'.format(d_now.hour))\n",
    "print('Minutes: {}'.format(d_now.minute))\n",
    "print('Seconds: {}'.format(d_now.second))\n",
    "print('Millisecond: {}'.format(d_now.microsecond))"
   ]
  },
  {
   "cell_type": "code",
   "execution_count": 4,
   "metadata": {},
   "outputs": [
    {
     "data": {
      "text/plain": [
       "datetime.datetime(2018, 11, 9, 16, 39, 52, 387627)"
      ]
     },
     "execution_count": 4,
     "metadata": {},
     "output_type": "execute_result"
    }
   ],
   "source": [
    "# Today also works similarly\n",
    "\n",
    "d_today = datetime.today()\n",
    "d_today"
   ]
  },
  {
   "cell_type": "code",
   "execution_count": 5,
   "metadata": {},
   "outputs": [
    {
     "data": {
      "text/plain": [
       "datetime.datetime(2018, 11, 9, 0, 0)"
      ]
     },
     "execution_count": 5,
     "metadata": {},
     "output_type": "execute_result"
    }
   ],
   "source": [
    "# We can define a Datetime object directly by putting, year, month date (optional; hours, minutes, etc)\n",
    "\n",
    "datetime(2018, 11, 9)"
   ]
  },
  {
   "cell_type": "code",
   "execution_count": 6,
   "metadata": {},
   "outputs": [
    {
     "name": "stdout",
     "output_type": "stream",
     "text": [
      "20181109\n",
      "2018<>11--09\n",
      "2018-11-09\n"
     ]
    }
   ],
   "source": [
    "# We can transform a DateTime object to a string with much flexibility\n",
    "\n",
    "print(d_now.strftime('%Y%m%d'))\n",
    "print(d_now.strftime('%Y<>%m--%d'))\n",
    "print(d_now.strftime('%Y-%m-%d'))"
   ]
  },
  {
   "cell_type": "code",
   "execution_count": 7,
   "metadata": {},
   "outputs": [
    {
     "data": {
      "text/plain": [
       "datetime.datetime(2018, 5, 13, 0, 0)"
      ]
     },
     "execution_count": 7,
     "metadata": {},
     "output_type": "execute_result"
    }
   ],
   "source": [
    "# We can also tranform a string to a DateTime object.\n",
    "\n",
    "datetime.strptime('13/5/2018', '%d/%m/%Y')"
   ]
  },
  {
   "cell_type": "code",
   "execution_count": 8,
   "metadata": {},
   "outputs": [
    {
     "name": "stdout",
     "output_type": "stream",
     "text": [
      "20181109\n",
      "20181106\n",
      "2018-11-06 16:39:52.361626\n"
     ]
    }
   ],
   "source": [
    "# A useful operation that we can do with time is to add some time, we can do it with timedelta\n",
    "\n",
    "from datetime import timedelta\n",
    "\n",
    "three_days_ago = d_now - timedelta(days=3)\n",
    "print(d_now.strftime('%Y%m%d'))\n",
    "print(three_days_ago.strftime('%Y%m%d'))\n",
    "print(three_days_ago)"
   ]
  },
  {
   "cell_type": "code",
   "execution_count": 9,
   "metadata": {},
   "outputs": [
    {
     "data": {
      "text/plain": [
       "datetime.datetime(2018, 11, 6, 1, 26, 12, 361626)"
      ]
     },
     "execution_count": 9,
     "metadata": {},
     "output_type": "execute_result"
    }
   ],
   "source": [
    "# We can not only add days, but hours, seconds, etc\n",
    "\n",
    "d_now - timedelta(days=3, hours=15, minutes=13, seconds=40)"
   ]
  },
  {
   "cell_type": "code",
   "execution_count": 10,
   "metadata": {},
   "outputs": [
    {
     "data": {
      "text/plain": [
       "Timestamp('2018-10-26 16:39:52.361626')"
      ]
     },
     "execution_count": 10,
     "metadata": {},
     "output_type": "execute_result"
    }
   ],
   "source": [
    "# The Pandas library has also a timedelta type of function which works for bunisess bays, let's go back 10 business days.\n",
    "\n",
    "from pandas.tseries.offsets import BDay\n",
    "\n",
    "d_now - BDay(10)"
   ]
  },
  {
   "cell_type": "code",
   "execution_count": 11,
   "metadata": {},
   "outputs": [
    {
     "data": {
      "text/plain": [
       "DatetimeIndex(['2017-03-10', '2017-03-13', '2017-03-14', '2017-03-15',\n",
       "               '2017-03-16', '2017-03-17', '2017-03-20', '2017-03-21',\n",
       "               '2017-03-22', '2017-03-23', '2017-03-24', '2017-03-27',\n",
       "               '2017-03-28', '2017-03-29', '2017-03-30', '2017-03-31',\n",
       "               '2017-04-03', '2017-04-04', '2017-04-05', '2017-04-06',\n",
       "               '2017-04-07'],\n",
       "              dtype='datetime64[ns]', freq='B')"
      ]
     },
     "execution_count": 11,
     "metadata": {},
     "output_type": "execute_result"
    }
   ],
   "source": [
    "# pandas has another useful datetime method which returns a list (in a form of an index) of all business days between\n",
    "# two given days.\n",
    "\n",
    "from pandas import bdate_range\n",
    "\n",
    "bdate_range(datetime(2017, 3, 10), datetime(2017, 4, 8))"
   ]
  }
 ],
 "metadata": {
  "kernelspec": {
   "display_name": "Python 3",
   "language": "python",
   "name": "python3"
  },
  "language_info": {
   "codemirror_mode": {
    "name": "ipython",
    "version": 3
   },
   "file_extension": ".py",
   "mimetype": "text/x-python",
   "name": "python",
   "nbconvert_exporter": "python",
   "pygments_lexer": "ipython3",
   "version": "3.6.4"
  }
 },
 "nbformat": 4,
 "nbformat_minor": 2
}
