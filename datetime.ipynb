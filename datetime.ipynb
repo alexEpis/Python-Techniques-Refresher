{
 "cells": [
  {
   "cell_type": "markdown",
   "metadata": {},
   "source": [
    "### This section deals with the DateTime object in Python.\n",
    "\n",
    "#### This object is used for dealing with dates and time."
   ]
  },
  {
   "cell_type": "code",
   "execution_count": null,
   "metadata": {},
   "outputs": [],
   "source": [
    "# Import the corresponding library.\n",
    "\n",
    "from datetime import datetime"
   ]
  },
  {
   "cell_type": "code",
   "execution_count": null,
   "metadata": {},
   "outputs": [],
   "source": [
    "# We can get the exact time and date of right-now.\n",
    "\n",
    "d_now = datetime.now()\n",
    "d_now"
   ]
  },
  {
   "cell_type": "code",
   "execution_count": null,
   "metadata": {},
   "outputs": [],
   "source": [
    "print('Day: {}'.format(d_now.day))\n",
    "print('Month: {}'.format(d_now.month))\n",
    "print('Year: {}'.format(d_now.year))\n",
    "print('Hours: {}'.format(d_now.hour))\n",
    "print('Minutes: {}'.format(d_now.minute))\n",
    "print('Seconds: {}'.format(d_now.second))\n",
    "print('Millisecond: {}'.format(d_now.microsecond))"
   ]
  },
  {
   "cell_type": "code",
   "execution_count": null,
   "metadata": {},
   "outputs": [],
   "source": [
    "# Today also works similarly\n",
    "\n",
    "d_today = datetime.today()\n",
    "d_today"
   ]
  },
  {
   "cell_type": "code",
   "execution_count": null,
   "metadata": {},
   "outputs": [],
   "source": [
    "# We can define a Datetime object directly by putting, year, month date (optional; hours, minutes, etc)\n",
    "\n",
    "datetime(2018, 11, 9)"
   ]
  },
  {
   "cell_type": "code",
   "execution_count": null,
   "metadata": {},
   "outputs": [],
   "source": [
    "# We can transform a DateTime object to a string with much flexibility\n",
    "\n",
    "print(d_now.strftime('%Y%m%d'))\n",
    "print(d_now.strftime('%Y<>%m--%d'))\n",
    "print(d_now.strftime('%Y-%m-%d'))"
   ]
  },
  {
   "cell_type": "code",
   "execution_count": null,
   "metadata": {},
   "outputs": [],
   "source": [
    "# We can also tranform a string to a DateTime object.\n",
    "\n",
    "datetime.strptime('13/5/2018', '%d/%m/%Y')"
   ]
  },
  {
   "cell_type": "code",
   "execution_count": null,
   "metadata": {},
   "outputs": [],
   "source": [
    "# A useful operation that we can do with time is to add some time, we can do it with timedelta\n",
    "\n",
    "from datetime import timedelta\n",
    "\n",
    "three_days_ago = d_now - timedelta(days=3)\n",
    "print(d_now.strftime('%Y%m%d'))\n",
    "print(three_days_ago.strftime('%Y%m%d'))\n",
    "print(three_days_ago)"
   ]
  },
  {
   "cell_type": "code",
   "execution_count": null,
   "metadata": {},
   "outputs": [],
   "source": [
    "# We can not only add days, but hours, seconds, etc\n",
    "\n",
    "d_now - timedelta(days=3, hours=15, minutes=13, seconds=40)"
   ]
  },
  {
   "cell_type": "code",
   "execution_count": null,
   "metadata": {},
   "outputs": [],
   "source": [
    "# The Pandas library has also a timedelta type of function which works for bunisess bays, let's go back 10 business days.\n",
    "\n",
    "from pandas.tseries.offsets import BDay\n",
    "\n",
    "d_now - BDay(10)"
   ]
  },
  {
   "cell_type": "code",
   "execution_count": null,
   "metadata": {},
   "outputs": [],
   "source": [
    "# pandas has another useful datetime method which returns a list (in a form of an index) of all business days between\n",
    "# two given days.\n",
    "\n",
    "from pandas import bdate_range\n",
    "\n",
    "bdate_range(datetime(2017, 3, 10), datetime(2017, 4, 8))"
   ]
  }
 ],
 "metadata": {
  "kernelspec": {
   "display_name": "Python 3",
   "language": "python",
   "name": "python3"
  },
  "language_info": {
   "codemirror_mode": {
    "name": "ipython",
    "version": 3
   },
   "file_extension": ".py",
   "mimetype": "text/x-python",
   "name": "python",
   "nbconvert_exporter": "python",
   "pygments_lexer": "ipython3",
   "version": "3.6.4"
  }
 },
 "nbformat": 4,
 "nbformat_minor": 2
}
